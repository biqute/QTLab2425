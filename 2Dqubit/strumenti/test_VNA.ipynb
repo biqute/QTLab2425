{
 "cells": [
  {
   "cell_type": "code",
   "execution_count": 8,
   "metadata": {},
   "outputs": [
    {
     "name": "stdout",
     "output_type": "stream",
     "text": [
      "device connected\n"
     ]
    },
    {
     "data": {
      "text/plain": [
       "'1\\n'"
      ]
     },
     "execution_count": 8,
     "metadata": {},
     "output_type": "execute_result"
    }
   ],
   "source": [
    "from VNA import VNA\n",
    "import matplotlib.pyplot as plt\n",
    "import numpy as np\n",
    "\n",
    "\n",
    "ip = '192.168.40.10'\n",
    "\n",
    "vna = VNA(ip)\n",
    "vna.set_freq_span(5, 1)\n",
    "vna.set_sweep_points(401)\n",
    "vna.set_n_means(5)"
   ]
  }
 ],
 "metadata": {
  "kernelspec": {
   "display_name": ".qubit2d",
   "language": "python",
   "name": "python3"
  },
  "language_info": {
   "codemirror_mode": {
    "name": "ipython",
    "version": 3
   },
   "file_extension": ".py",
   "mimetype": "text/x-python",
   "name": "python",
   "nbconvert_exporter": "python",
   "pygments_lexer": "ipython3",
   "version": "3.12.7"
  }
 },
 "nbformat": 4,
 "nbformat_minor": 2
}
