{
 "cells": [
  {
   "cell_type": "code",
   "execution_count": null,
   "metadata": {},
   "outputs": [],
   "source": [
    "import numpy as np\n",
    "\n",
    "def resonance(par, data):\n",
    "    \"\"\"\n",
    "    Calcola il profilo di risonanza e il chi-quadrato, se applicabile.\n",
    "\n",
    "    Parametri:\n",
    "    - par: array dei parametri variabili [c1, Qt, Qi, phi, fr, linear bkg, quadratic bkg, cubic bkg].\n",
    "    - data: array di dati. Se size(data,0) == 2 --> calcolo chi-quadrato con errore = 1.\n",
    "                                     Se size(data,0) > 2 --> calcolo chi-quadrato con errore fornito.\n",
    "\n",
    "    Restituisce:\n",
    "    - f: profilo teorico o chi-quadrato.\n",
    "    \"\"\"\n",
    "\n",
    "    # Estrai le variabili dai parametri\n",
    "    c1, Qt, Qi, phi, fr, a0, a1, a2 = par\n",
    "    fmin = data[3, 0]  # Valore di fmin dato\n",
    "\n",
    "    # Estrai la fuenza (asse X)\n",
    "    f = data[0, :]  # Primo array del set di dati\n",
    "\n",
    "    # Calcola la funzione teorica\n",
    "    term1 = a0 * f + a1 * f**2 + a2 * f**3\n",
    "    term2 = 1 - np.exp(1j * phi) * Qt * (1 / Qt - 1 / Qi)\n",
    "    term3 = 1 / (1 + 2j * Qt * (f - fr) / fmin)\n",
    "    resonance_profile = np.abs(term1 + c1 * term2 * term3)\n",
    "\n",
    "    # Calcolo del chi-quadrato\n",
    "    if data.shape[0] == 2:  # Nessun errore fornito (default error = 1)\n",
    "        chi_square = np.sum((data[1, :] - resonance_profile)**2)\n",
    "        return chi_square\n",
    "    elif data.shape[0] > 2:  # Errore fornito nella terza riga\n",
    "        errors = data[2, :]\n",
    "        chi_square = np.sum(((data[1, :] - resonance_profile) / errors)**2)\n",
    "        return chi_square\n",
    "    else:\n",
    "        return resonance_profile\n"
   ]
  }
 ],
 "metadata": {
  "kernelspec": {
   "display_name": "qubit2d",
   "language": "python",
   "name": "python3"
  },
  "language_info": {
   "name": "python",
   "version": "3.12.7"
  }
 },
 "nbformat": 4,
 "nbformat_minor": 2
}
