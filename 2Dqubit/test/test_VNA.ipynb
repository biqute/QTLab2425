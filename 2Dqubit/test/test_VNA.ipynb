{
 "cells": [
  {
   "cell_type": "code",
   "execution_count": 4,
   "metadata": {},
   "outputs": [
    {
     "name": "stdout",
     "output_type": "stream",
     "text": [
      "Frequenza centrale e span impostati correttamente.\n",
      "Numero di punti di sweep impostato correttamente a 401.\n",
      "Numero di medie impostato correttamente a 50.\n",
      "Larghezza di banda IF impostata correttamente a 30000 Hz.\n"
     ]
    }
   ],
   "source": [
    "from VNA_modified import VNA\n",
    "import matplotlib.pyplot as plt\n",
    "import numpy as np\n",
    "\n",
    "\n",
    "ip = '192.168.40.10'\n",
    "\n",
    "vna = VNA(ip)\n",
    "vna.set_freq_span(6, 2)\n",
    "vna.set_sweep_points(401)\n",
    "vna.set_n_means(50)\n",
    "vna.set_ifband(30000)\n",
    "\n"
   ]
  },
  {
   "cell_type": "code",
   "execution_count": null,
   "metadata": {},
   "outputs": [
    {
     "ename": "NameError",
     "evalue": "name 'vna' is not defined",
     "output_type": "error",
     "traceback": [
      "\u001b[1;31m---------------------------------------------------------------------------\u001b[0m",
      "\u001b[1;31mNameError\u001b[0m                                 Traceback (most recent call last)",
      "Cell \u001b[1;32mIn[1], line 1\u001b[0m\n\u001b[1;32m----> 1\u001b[0m \u001b[43mvna\u001b[49m\u001b[38;5;241m.\u001b[39mset_ifband(\u001b[38;5;241m50\u001b[39m)\n",
      "\u001b[1;31mNameError\u001b[0m: name 'vna' is not defined"
     ]
    }
   ],
   "source": []
  }
 ],
 "metadata": {
  "kernelspec": {
   "display_name": "qubit2d",
   "language": "python",
   "name": "python3"
  },
  "language_info": {
   "codemirror_mode": {
    "name": "ipython",
    "version": 3
   },
   "file_extension": ".py",
   "mimetype": "text/x-python",
   "name": "python",
   "nbconvert_exporter": "python",
   "pygments_lexer": "ipython3",
   "version": "3.12.7"
  }
 },
 "nbformat": 4,
 "nbformat_minor": 2
}
