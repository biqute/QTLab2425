{
 "cells": [
  {
   "cell_type": "code",
   "execution_count": null,
   "metadata": {},
   "outputs": [
    {
     "name": "stdout",
     "output_type": "stream",
     "text": [
      "Risultati del fit:\n",
      "L = 9.5900 ± 189.8255\n",
      "C = 7.1899 ± 109.3159\n",
      "fr = -0.0474 ± 0.0075\n",
      "phi = -0.9059 ± 13.6390\n",
      "a = 0.2755 ± 0.2430\n"
     ]
    }
   ],
   "source": [
    "import sys \n",
    "sys.path.append(\"../analysis\")\n",
    "import circular_resonator \n",
    "import matplotlib.pyplot as plt\n",
    "import numpy as np\n",
    "\n",
    "def read_data(file_path):\n",
    "    '''\n",
    "    funzione per leggere i dati\n",
    "    '''\n",
    "    data = np.loadtxt(file_path, delimiter=',')  \n",
    "    f = data[:, 0]     # frequenza\n",
    "    x = data[:, 1]     # parte reale (I)\n",
    "    y = data[:, 2]     # parte immaginaria (Q)\n",
    "    return f, x, y\n",
    "\n",
    "def main () :\n",
    "    file_path = \"../data/Q_res20.txt\"\n",
    "\n",
    "    f, x, y = read_data (file_path)\n",
    "\n",
    "    power = np.sqrt(x**2 + y**2)\n",
    "\n",
    "    parameters, errors = circular_resonator.fit_resonance (x, power)\n",
    "\n",
    "    # Stampa dei risultati\n",
    "    print(\"Risultati del fit:\")\n",
    "    parametri = [\"L\", \"C\", \"fr\", \"phi\", \"a\"]\n",
    "    for parametro in parametri:\n",
    "        print(f\"{parametro} = {parameters[parametro]:.4f} ± {errors[parametro]:.4f}\")\n",
    "\n",
    "\n",
    "    # Plot dei dati e del fit\n",
    "    plt.scatter(f, power, label='Dati', color='blue')\n",
    "\n",
    "    # Curva del fit usando i parametri ottimizzati\n",
    "    f_fit = np.linspace(min(f), max(f), 500)\n",
    "    # Passa i singoli valori dal dizionario risultati\n",
    "    y_fit = circular_resonator.full_fit(f_fit, parameters[\"L\"], parameters[\"C\"], parameters[\"fr\"], parameters[\"phi\"], parameters[\"a\"])\n",
    "    plt.plot(f_fit, y_fit, label='Fit', color='red')\n",
    "\n",
    "    plt.xlabel('Frequenza (f)')\n",
    "    plt.ylabel('|y|^2')\n",
    "    plt.legend()\n",
    "    plt.show()\n",
    "\n",
    "if __name__ == '__main__' :\n",
    "    main ()\n",
    "\n",
    "\n",
    "\n"
   ]
  },
  {
   "cell_type": "code",
   "execution_count": null,
   "metadata": {},
   "outputs": [],
   "source": []
  }
 ],
 "metadata": {
  "kernelspec": {
   "display_name": "qubit2d",
   "language": "python",
   "name": "python3"
  },
  "language_info": {
   "codemirror_mode": {
    "name": "ipython",
    "version": 3
   },
   "file_extension": ".py",
   "mimetype": "text/x-python",
   "name": "python",
   "nbconvert_exporter": "python",
   "pygments_lexer": "ipython3",
   "version": "3.12.7"
  }
 },
 "nbformat": 4,
 "nbformat_minor": 2
}
