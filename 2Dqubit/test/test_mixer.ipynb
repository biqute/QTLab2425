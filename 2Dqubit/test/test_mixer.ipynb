{
 "cells": [
  {
   "cell_type": "code",
   "execution_count": 11,
   "metadata": {},
   "outputs": [],
   "source": [
    "import sys; sys.path.append(\"../strumenti\")\n",
    "from PSA import PSA\n",
    "from LO import LO\n",
    "from SG import SG"
   ]
  },
  {
   "cell_type": "code",
   "execution_count": 3,
   "metadata": {},
   "outputs": [],
   "source": [
    "myLO = LO(\"COM4\")"
   ]
  },
  {
   "cell_type": "code",
   "execution_count": 8,
   "metadata": {},
   "outputs": [
    {
     "name": "stdout",
     "output_type": "stream",
     "text": [
      "device connected.\n"
     ]
    }
   ],
   "source": [
    "ip_sg = '192.168.40.15'\n",
    "ip_psa = '192.168.40.10'\n",
    "sg = SG(ip_sg)\n",
    "psa = PSA(ip_psa)\n"
   ]
  },
  {
   "cell_type": "code",
   "execution_count": 9,
   "metadata": {},
   "outputs": [
    {
     "data": {
      "text/plain": [
       "'1\\n'"
      ]
     },
     "execution_count": 9,
     "metadata": {},
     "output_type": "execute_result"
    }
   ],
   "source": [
    "myLO.set_frequency(6.6)\n",
    "\n",
    "sg.set_freq(6700000000)\n",
    "sg.turn_on ()\n",
    "psa.set_freq_span(0.1, 0.05)"
   ]
  },
  {
   "cell_type": "code",
   "execution_count": null,
   "metadata": {},
   "outputs": [
    {
     "ename": "ImportError",
     "evalue": "cannot import name 'utils' from 'utils' (c:\\Users\\oper\\labQT\\Lab2024\\QUBIT_2D\\QTLab2425\\2Dqubit\\test\\../utils\\utils.py)",
     "output_type": "error",
     "traceback": [
      "\u001b[1;31m---------------------------------------------------------------------------\u001b[0m",
      "\u001b[1;31mImportError\u001b[0m                               Traceback (most recent call last)",
      "Cell \u001b[1;32mIn[1], line 2\u001b[0m\n\u001b[0;32m      1\u001b[0m \u001b[38;5;28;01mimport\u001b[39;00m \u001b[38;5;21;01msys\u001b[39;00m; sys\u001b[38;5;241m.\u001b[39mpath\u001b[38;5;241m.\u001b[39mappend(\u001b[38;5;124m\"\u001b[39m\u001b[38;5;124m../utils\u001b[39m\u001b[38;5;124m\"\u001b[39m)\n\u001b[1;32m----> 2\u001b[0m \u001b[38;5;28;01mfrom\u001b[39;00m \u001b[38;5;21;01mutils\u001b[39;00m \u001b[38;5;28;01mimport\u001b[39;00m utils \n\u001b[0;32m      6\u001b[0m DATIX \u001b[38;5;241m=\u001b[39m np\u001b[38;5;241m.\u001b[39marray([\u001b[38;5;241m1\u001b[39m, \u001b[38;5;241m2\u001b[39m, \u001b[38;5;241m3\u001b[39m])\n\u001b[0;32m      7\u001b[0m DATIY \u001b[38;5;241m=\u001b[39m np\u001b[38;5;241m.\u001b[39marray([\u001b[38;5;241m1\u001b[39m, \u001b[38;5;241m2\u001b[39m, \u001b[38;5;241m3\u001b[39m])\n",
      "\u001b[1;31mImportError\u001b[0m: cannot import name 'utils' from 'utils' (c:\\Users\\oper\\labQT\\Lab2024\\QUBIT_2D\\QTLab2425\\2Dqubit\\test\\../utils\\utils.py)"
     ]
    }
   ],
   "source": [
    "import sys; sys.path.append(\"../utils\")\n",
    "from utils import utils \n",
    "import numpy as np\n",
    "\n",
    "\n",
    "DATIX = np.array([1, 2, 3])\n",
    "DATIY = np.array([1, 2, 3])\n",
    "\n",
    "dati = utils(DATIX, DATIY)\n",
    "dati.save_txt(\"prova\")\n"
   ]
  }
 ],
 "metadata": {
  "kernelspec": {
   "display_name": "qubit2d",
   "language": "python",
   "name": "python3"
  },
  "language_info": {
   "codemirror_mode": {
    "name": "ipython",
    "version": 3
   },
   "file_extension": ".py",
   "mimetype": "text/x-python",
   "name": "python",
   "nbconvert_exporter": "python",
   "pygments_lexer": "ipython3",
   "version": "3.12.7"
  }
 },
 "nbformat": 4,
 "nbformat_minor": 2
}
