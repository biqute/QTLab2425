{
 "cells": [
  {
   "cell_type": "code",
   "execution_count": 1,
   "metadata": {},
   "outputs": [
    {
     "name": "stdout",
     "output_type": "stream",
     "text": [
      "I punti del cerchio deformato e shiftato sono stati salvati in '../data/test_circle_4.txt'.\n"
     ]
    }
   ],
   "source": [
    "import numpy as np\n",
    "import sys\n",
    "sys.path.append (\"../data\")\n",
    "\n",
    "# Parametri del cerchio\n",
    "raggio = 10  # Raggio del cerchio\n",
    "centro_x, centro_y = 5, -3  # Centro del cerchio traslato\n",
    "num_punti = 100  # Numero di punti sul cerchio\n",
    "\n",
    "# Parametri per la deformazione\n",
    "scala_x, scala_y = 1.2, 0.8  # Scala per deformare il cerchio in un'ellisse\n",
    "distorsione_ampiezza = 0.3  # Ampiezza di una distorsione sinusoidale\n",
    "\n",
    "# Calcolo dei punti\n",
    "angoli = np.linspace(0, 2 * np.pi, num_punti, endpoint=False)\n",
    "x = raggio * np.cos(angoli)\n",
    "y = raggio * np.sin(angoli)\n",
    "\n",
    "# Deformiamo i punti\n",
    "x_deformato = x * scala_x + distorsione_ampiezza * np.sin(3 * angoli)\n",
    "y_deformato = y * scala_y + distorsione_ampiezza * np.cos(2 * angoli)\n",
    "\n",
    "# Trasliamo i punti\n",
    "x_shiftato = x_deformato + centro_x\n",
    "y_shiftato = y_deformato + centro_y\n",
    "\n",
    "# Salviamo i dati in un file .txt\n",
    "file_path = \"../data/test_circle_4.txt\"\n",
    "with open(file_path, \"w\") as file:\n",
    "    for xi, yi in zip(x_shiftato, y_shiftato):\n",
    "        file.write(f\"{xi:.6f},{yi:.6f}\\n\")\n",
    "\n",
    "print(f\"I punti del cerchio deformato e shiftato sono stati salvati in '{file_path}'.\")\n"
   ]
  }
 ],
 "metadata": {
  "kernelspec": {
   "display_name": "qubit2d",
   "language": "python",
   "name": "python3"
  },
  "language_info": {
   "codemirror_mode": {
    "name": "ipython",
    "version": 3
   },
   "file_extension": ".py",
   "mimetype": "text/x-python",
   "name": "python",
   "nbconvert_exporter": "python",
   "pygments_lexer": "ipython3",
   "version": "3.12.7"
  }
 },
 "nbformat": 4,
 "nbformat_minor": 2
}
