{
 "cells": [
  {
   "cell_type": "code",
   "execution_count": null,
   "metadata": {},
   "outputs": [],
   "source": [
    "import sys \n",
    "sys.path.append(\"../fit\")\n",
    "sys.path.append(\"../data\")\n",
    "import resonance\n",
    "\n",
    "file_path = \"../data/Resonances/20mK_-10dBm.txt\"\n",
    "resonance.fit(file_path)\n"
   ]
  }
 ],
 "metadata": {
  "kernelspec": {
   "display_name": "qubit2d",
   "language": "python",
   "name": "python3"
  },
  "language_info": {
   "name": "python",
   "version": "3.12.7"
  }
 },
 "nbformat": 4,
 "nbformat_minor": 2
}
