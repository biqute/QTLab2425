{
 "cells": [
  {
   "cell_type": "markdown",
   "metadata": {},
   "source": [
    "# Resonance 1 fr and 1/Qi vs T"
   ]
  },
  {
   "cell_type": "code",
   "execution_count": null,
   "metadata": {},
   "outputs": [
    {
     "name": "stdout",
     "output_type": "stream",
     "text": [
      "[3.174000e+09 3.174003e+09 3.174006e+09 ... 3.178494e+09 3.178497e+09\n",
      " 3.178500e+09]\n"
     ]
    }
   ],
   "source": [
    "# Example usage\n",
    "from iminuit.cost import LeastSquares\n",
    "from FitAPI import Fitter, Model\n",
    "import numpy as np\n",
    "import numpy as np\n",
    "import sys\n",
    "sys.path.append('../Graphics')\n",
    "from Graphs import fitPlotter\n",
    "import matplotlib.pyplot as plt\n",
    "\n",
    "def S21_model(f: np.ndarray, f0: float, phi: float, Qt: float, Qc: float, A: float, B: float, C: float, D: float, K: float) -> np.ndarray:\n",
    "    return (A + B*(f-fmin) + C*(f-fmin)**2 + D*(f-fmin)**3) + K * np.abs((1 - (Qt/np.abs(Qc))*np.exp(1j*phi)/(1 + 2j*Qt*((f-fmin) - f0)/fmin)))\n",
    "\n",
    "initial_guess = {\n",
    "    \"f0\": 0.01,\n",
    "    \"phi\": 0.01,\n",
    "    \"Qc\": 1e3,\n",
    "    \"A\": 1.0,\n",
    "    \"B\": 1e-9,\n",
    "    \"C\": 1e-18,\n",
    "    \"D\": 1e-27\n",
    "}\n",
    "\n",
    "# Estimate the initial guess of Qt\n",
    "def peak_width(datax, datay):\n",
    "    half_height_value = np.min(datay) + (np.max(datay) - np.min(datay)) / np.sqrt(2)\n",
    "    hits = []\n",
    "    above = datay[0] > half_height_value\n",
    "    for i in range(1, len(datay)):\n",
    "        new_above = datay[i] > half_height_value\n",
    "        if new_above != above: \n",
    "            hits.append((datax[i] + datax[i-1]) / 2)\n",
    "            above = new_above\n",
    "    return abs(hits[-1] - hits[0])\n",
    "\n",
    "result_fr = []\n",
    "err_fr = []\n",
    "result_Qi = []\n",
    "err_Qi = []\n",
    "T = []\n",
    "\n",
    "f = []\n",
    "y = []\n",
    "for i in range(40, 116, 2):\n",
    "    path = '../Data/fit_test/gap run12/Q_res' +str(i) +'.txt'\n",
    "    data = np.loadtxt(path, delimiter=',', skiprows=0)\n",
    "    f.append(data[:,0])\n",
    "    I = data[:,1]\n",
    "    Q = data[:,2]\n",
    "    # Convert to module\n",
    "    y.append(np.sqrt(I**2 + Q**2))\n",
    "    T.append(410 - 10*((i-40)/2))\n",
    "    \n",
    "print(f[0])"
   ]
  },
  {
   "cell_type": "code",
   "execution_count": 10,
   "metadata": {},
   "outputs": [
    {
     "name": "stdout",
     "output_type": "stream",
     "text": [
      "Qt_guess: 27629.41739130435\n",
      "Initial guess: {'f0': 0.01, 'phi': 0.01, 'Qc': 1000.0, 'A': 1.0, 'B': 1e-09, 'C': 1e-18, 'D': 1e-27, 'Qt': np.float64(27629.41739130435), 'K': np.float64(0.0024407327439281436)}\n",
      "First total fit failed\n",
      "Partial fit 0\n",
      "Partial fit 0 converged bad , p-value = 0.0\n",
      "Partial fit 1\n",
      "Partial fit 1 converged bad , p-value = 0.0\n",
      "Partial fit 2\n",
      "Partial fit 2 converged bad , p-value = 0.0\n",
      "Partial fit 3\n",
      "Partial fit 3 converged bad , p-value = 0.0\n",
      "Partial fit 4\n",
      "Partial fit 4 converged bad , p-value = 0.0\n",
      "Partial fit 5\n",
      "Partial fit 5 converged bad , p-value = 0.0\n",
      "Partial fit 6\n",
      "Partial fit 6 converged bad , p-value = 0.0\n",
      "Partial fit 7\n",
      "Partial fit 7 converged bad , p-value = 0.0\n",
      "Partial fit 8\n",
      "Partial fit 8 converged bad , p-value = 0.0\n",
      "Partial fit 9\n",
      "Partial fit 9 converged bad , p-value = 0.0\n"
     ]
    },
    {
     "ename": "RuntimeError",
     "evalue": "The fit did not converge. All partial fits failed",
     "output_type": "error",
     "traceback": [
      "\u001b[1;31m---------------------------------------------------------------------------\u001b[0m",
      "\u001b[1;31mRuntimeError\u001b[0m                              Traceback (most recent call last)",
      "Cell \u001b[1;32mIn[10], line 29\u001b[0m\n\u001b[0;32m     22\u001b[0m fit_data \u001b[38;5;241m=\u001b[39m np\u001b[38;5;241m.\u001b[39mcolumn_stack((f_i, y_i))\n\u001b[0;32m     23\u001b[0m fitter \u001b[38;5;241m=\u001b[39m Fitter(model_function\u001b[38;5;241m=\u001b[39mS21_model, \n\u001b[0;32m     24\u001b[0m                 param_names\u001b[38;5;241m=\u001b[39m[\u001b[38;5;124m\"\u001b[39m\u001b[38;5;124mf0\u001b[39m\u001b[38;5;124m\"\u001b[39m, \u001b[38;5;124m\"\u001b[39m\u001b[38;5;124mphi\u001b[39m\u001b[38;5;124m\"\u001b[39m, \u001b[38;5;124m\"\u001b[39m\u001b[38;5;124mQt\u001b[39m\u001b[38;5;124m\"\u001b[39m, \u001b[38;5;124m\"\u001b[39m\u001b[38;5;124mQc\u001b[39m\u001b[38;5;124m\"\u001b[39m, \u001b[38;5;124m\"\u001b[39m\u001b[38;5;124mA\u001b[39m\u001b[38;5;124m\"\u001b[39m, \u001b[38;5;124m\"\u001b[39m\u001b[38;5;124mB\u001b[39m\u001b[38;5;124m\"\u001b[39m, \u001b[38;5;124m\"\u001b[39m\u001b[38;5;124mC\u001b[39m\u001b[38;5;124m\"\u001b[39m, \u001b[38;5;124m\"\u001b[39m\u001b[38;5;124mD\u001b[39m\u001b[38;5;124m\"\u001b[39m, \u001b[38;5;124m\"\u001b[39m\u001b[38;5;124mK\u001b[39m\u001b[38;5;124m\"\u001b[39m], \n\u001b[0;32m     25\u001b[0m                 data\u001b[38;5;241m=\u001b[39mfit_data, \n\u001b[0;32m     26\u001b[0m                 loss_function\u001b[38;5;241m=\u001b[39mLeastSquares,\n\u001b[0;32m     27\u001b[0m                 params_initial_guess\u001b[38;5;241m=\u001b[39minitial_guess)\n\u001b[1;32m---> 29\u001b[0m result \u001b[38;5;241m=\u001b[39m \u001b[43mfitter\u001b[49m\u001b[38;5;241;43m.\u001b[39;49m\u001b[43mfit_quasi_magicus\u001b[49m\u001b[43m(\u001b[49m\u001b[43m)\u001b[49m\n\u001b[0;32m     30\u001b[0m result_dict \u001b[38;5;241m=\u001b[39m result\u001b[38;5;241m.\u001b[39mvalues\u001b[38;5;241m.\u001b[39mto_dict()\n\u001b[0;32m     31\u001b[0m err_dict \u001b[38;5;241m=\u001b[39m result\u001b[38;5;241m.\u001b[39merrors\u001b[38;5;241m.\u001b[39mto_dict()\n",
      "File \u001b[1;32mc:\\Users\\kid\\labQT\\Lab2024\\SINGLE_PHOTON\\QTLab2425\\IRdetection\\Analysis\\FitAPI.py:140\u001b[0m, in \u001b[0;36mFitter.fit_quasi_magicus\u001b[1;34m(self, N_fixed_params, pvalue_treshold, try_total_fit_first)\u001b[0m\n\u001b[0;32m    138\u001b[0m     \u001b[38;5;66;03m# Check if all partial fits failed\u001b[39;00m\n\u001b[0;32m    139\u001b[0m     \u001b[38;5;28;01mif\u001b[39;00m iter_counter \u001b[38;5;241m==\u001b[39m \u001b[38;5;28mlen\u001b[39m(\u001b[38;5;28mself\u001b[39m\u001b[38;5;241m.\u001b[39mmodel\u001b[38;5;241m.\u001b[39mparam_names):\n\u001b[1;32m--> 140\u001b[0m         \u001b[38;5;28;01mraise\u001b[39;00m \u001b[38;5;167;01mRuntimeError\u001b[39;00m(\u001b[38;5;124m\"\u001b[39m\u001b[38;5;124mThe fit did not converge. All partial fits failed\u001b[39m\u001b[38;5;124m\"\u001b[39m)\n\u001b[0;32m    141\u001b[0m     iter_counter \u001b[38;5;241m+\u001b[39m\u001b[38;5;241m=\u001b[39m \u001b[38;5;241m1\u001b[39m\n\u001b[0;32m    143\u001b[0m \u001b[38;5;66;03m# Final fit with all params\u001b[39;00m\n",
      "\u001b[1;31mRuntimeError\u001b[0m: The fit did not converge. All partial fits failed"
     ]
    }
   ],
   "source": [
    "\n",
    "\n",
    "#(116 - 40)/2 = 38\n",
    "#(410-30)/10 = 38\n",
    "\n",
    "for i in range(40, 116, 2):\n",
    "    f_i = f[int((i-40)/2)]\n",
    "    y_i = y[int((i-40)/2)]\n",
    "    \n",
    "    fmin = f_i[np.argmin(y_i)]\n",
    "    \n",
    "    # Estimate the initial guess of Qt\n",
    "    #Q_i = fmin / peak_width(f, -y)\n",
    "    #Qt_guess = 1/(1/initial_guess['Qc'] + 1/Q_i)\n",
    "    Qt_guess = fmin / peak_width(f_i, -y_i)\n",
    "    \n",
    "    print(f\"Qt_guess: {Qt_guess}\")\n",
    "    initial_guess['Qt'] = Qt_guess\n",
    "\n",
    "    # Estimate the initial guess of K\n",
    "    initial_guess['K'] = (np.max(y_i) - np.min(y_i)) * initial_guess['Qc'] / initial_guess['Qt']\n",
    "    print(f\"Initial guess: {initial_guess}\")\n",
    "\n",
    "    fit_data = np.column_stack((f_i, y_i))\n",
    "    fitter = Fitter(model_function=S21_model, \n",
    "                    param_names=[\"f0\", \"phi\", \"Qt\", \"Qc\", \"A\", \"B\", \"C\", \"D\", \"K\"], \n",
    "                    data=fit_data, \n",
    "                    loss_function=LeastSquares,\n",
    "                    params_initial_guess=initial_guess)\n",
    "\n",
    "    result = fitter.fit_quasi_magicus()\n",
    "    result_dict = result.values.to_dict()\n",
    "    err_dict = result.errors.to_dict()\n",
    "    \n",
    "    result_fr.append(result_dict['f0'] + fmin)\n",
    "    err_fr.append(err_dict['f0'])\n",
    "    \n",
    "    result_Qi.append(abs((1/result_dict['Qt']-1/result_dict['Qc'])**-1))\n",
    "    Qt = result_dict['Qt']\n",
    "    Qc = result_dict['Qc']\n",
    "    err_Qi.append(np.sqrt((err_dict['Qt'] * Qt**-2)**2 + (err_dict['Qc'] * Qc**-2)**2) * ((1/Qt-1/Qc)**-2))\n",
    "    \n",
    "    \n",
    "print(result_fr)\n",
    "print(result_Qi)\n",
    "print(T) \n",
    "\n",
    "plt.errorbar(T, result_fr, err_fr, linestyle='-', label='fr')\n",
    "plt.ylabel('Resonance frequency (GHz)')\n",
    "plt.xlabel('Temperature (mK)')\n",
    "plt.show()\n",
    "\n",
    "plt.errorbar(T, 1/result_Qi, err_Qi*result_Qi**-2, linestyle='-', label='Qi')\n",
    "plt.ylabel('1/Internal quality factor')\n",
    "plt.xlabel('Temperature (mK)')\n",
    "plt.show()\n"
   ]
  }
 ],
 "metadata": {
  "kernelspec": {
   "display_name": ".venv",
   "language": "python",
   "name": "python3"
  },
  "language_info": {
   "codemirror_mode": {
    "name": "ipython",
    "version": 3
   },
   "file_extension": ".py",
   "mimetype": "text/x-python",
   "name": "python",
   "nbconvert_exporter": "python",
   "pygments_lexer": "ipython3",
   "version": "3.12.5"
  }
 },
 "nbformat": 4,
 "nbformat_minor": 2
}
