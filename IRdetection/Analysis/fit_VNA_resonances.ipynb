{
 "cells": [
  {
   "cell_type": "markdown",
   "metadata": {},
   "source": [
    "# Fit VNA resonances at different power outputs"
   ]
  },
  {
   "cell_type": "code",
   "execution_count": 2,
   "metadata": {},
   "outputs": [
    {
     "ename": "ModuleNotFoundError",
     "evalue": "No module named 'iminuit'",
     "output_type": "error",
     "traceback": [
      "\u001b[1;31m---------------------------------------------------------------------------\u001b[0m",
      "\u001b[1;31mModuleNotFoundError\u001b[0m                       Traceback (most recent call last)",
      "Cell \u001b[1;32mIn[2], line 2\u001b[0m\n\u001b[0;32m      1\u001b[0m \u001b[38;5;66;03m# Example usage\u001b[39;00m\n\u001b[1;32m----> 2\u001b[0m \u001b[38;5;28;01mfrom\u001b[39;00m \u001b[38;5;21;01miminuit\u001b[39;00m\u001b[38;5;21;01m.\u001b[39;00m\u001b[38;5;21;01mcost\u001b[39;00m \u001b[38;5;28;01mimport\u001b[39;00m LeastSquares\n\u001b[0;32m      3\u001b[0m \u001b[38;5;28;01mfrom\u001b[39;00m \u001b[38;5;21;01mFitAPI\u001b[39;00m \u001b[38;5;28;01mimport\u001b[39;00m Fitter, Model\n\u001b[0;32m      4\u001b[0m \u001b[38;5;28;01mimport\u001b[39;00m \u001b[38;5;21;01mnumpy\u001b[39;00m \u001b[38;5;28;01mas\u001b[39;00m \u001b[38;5;21;01mnp\u001b[39;00m\n",
      "\u001b[1;31mModuleNotFoundError\u001b[0m: No module named 'iminuit'"
     ]
    }
   ],
   "source": [
    "# Example usage\n",
    "from iminuit.cost import LeastSquares\n",
    "from FitAPI import Fitter, Model\n",
    "import numpy as np\n",
    "import numpy as np\n",
    "import sys\n",
    "sys.path.append('../Graphics')\n",
    "from Graphs import fitPlotter\n",
    "import matplotlib.pyplot as plt\n",
    "import models as md\n",
    "import h5py\n",
    "\n",
    "def S21_model(f: np.ndarray, f0: float, phi: float, Qt: float, Qc: float, A: float, B: float, C: float, D: float, K: float, fmin: float) -> np.ndarray:\n",
    "    return (A+B*(f-fmin) + C*(f-fmin)**2 + D*(f-fmin)**3) + K * np.abs((1 - (Qt/np.abs(Qc))*np.exp(1j*phi)/(1 + 2j*Qt*((f-fmin) - f0)/fmin)))\n",
    "\n",
    "# Estimate the initial guess of Qt\n",
    "def peak_width(datax, datay):\n",
    "    half_height_value = np.min(datay) + (np.max(datay) - np.min(datay)) / np.sqrt(2)\n",
    "    hits = []\n",
    "    above = datay[0] > half_height_value\n",
    "    for i in range(1, len(datay)):\n",
    "        new_above = datay[i] > half_height_value\n",
    "        if new_above != above: \n",
    "            hits.append((datax[i] + datax[i-1]) / 2)\n",
    "            above = new_above\n",
    "    return abs(hits[-1] - hits[0])\n",
    "\n",
    "result_fr = []\n",
    "err_fr = []\n",
    "result_Qi = []\n",
    "err_Qi = []\n",
    "T = []\n",
    "\n",
    "f = []\n",
    "y = []\n",
    "path = '../Experiments/ResonatorsExperiment/run3/data/peaks_data.h5'\n",
    "dataset_names = [\"first_peak\", \"second_peak\", \"third_peak\", \"fourth_peak\"]\n",
    "with h5py.File(path, 'r') as hf:\n",
    "    for name in dataset_names:\n",
    "        if name in hf:\n",
    "            dataset = hf[name][()]\n",
    "            f.append(dataset[:, 0])  # Frequency data\n",
    "            I = dataset[:, 1]  # I data\n",
    "            Q = dataset[:, 2]  # Q data\n",
    "            # Convert to module\n",
    "            y.append(np.sqrt(I**2 + Q**2))\n",
    "        else:\n",
    "            print(f\"Dataset {name} not found in the HDF5 file\")"
   ]
  },
  {
   "cell_type": "code",
   "execution_count": null,
   "metadata": {},
   "outputs": [
    {
     "ename": "TypeError",
     "evalue": "can only concatenate list (not \"str\") to list",
     "output_type": "error",
     "traceback": [
      "\u001b[1;31m---------------------------------------------------------------------------\u001b[0m",
      "\u001b[1;31mTypeError\u001b[0m                                 Traceback (most recent call last)",
      "Cell \u001b[1;32mIn[4], line 1\u001b[0m\n\u001b[1;32m----> 1\u001b[0m dataset_names \u001b[38;5;241m=\u001b[39m \u001b[43m[\u001b[49m\u001b[38;5;124;43m\"\u001b[39;49m\u001b[38;5;124;43mfirst_peak\u001b[39;49m\u001b[38;5;124;43m\"\u001b[39;49m\u001b[43m,\u001b[49m\u001b[43m \u001b[49m\u001b[38;5;124;43m\"\u001b[39;49m\u001b[38;5;124;43msecond_peak\u001b[39;49m\u001b[38;5;124;43m\"\u001b[39;49m\u001b[43m,\u001b[49m\u001b[43m \u001b[49m\u001b[38;5;124;43m\"\u001b[39;49m\u001b[38;5;124;43mthird_peak\u001b[39;49m\u001b[38;5;124;43m\"\u001b[39;49m\u001b[43m,\u001b[49m\u001b[43m \u001b[49m\u001b[38;5;124;43m\"\u001b[39;49m\u001b[38;5;124;43mfourth_peak\u001b[39;49m\u001b[38;5;124;43m\"\u001b[39;49m\u001b[43m]\u001b[49m\u001b[43m \u001b[49m\u001b[38;5;241;43m+\u001b[39;49m\u001b[43m \u001b[49m\u001b[38;5;124;43m\"\u001b[39;49m\u001b[38;5;124;43mf\u001b[39;49m\u001b[38;5;124;43m\"\u001b[39;49m\n\u001b[0;32m      2\u001b[0m dataset_names\n",
      "\u001b[1;31mTypeError\u001b[0m: can only concatenate list (not \"str\") to list"
     ]
    }
   ],
   "source": [
    "for i in len(f):\n",
    "    plt.plot(f[i], y[i])\n",
    "plt.xlabel('Frequency (GHz)')\n",
    "plt.ylabel('S21 (dBm)')\n",
    "plt.title('S21 vs Frequency')\n",
    "plt.grid()\n",
    "plt.show()"
   ]
  },
  {
   "cell_type": "code",
   "execution_count": null,
   "metadata": {},
   "outputs": [
    {
     "name": "stdout",
     "output_type": "stream",
     "text": [
      "[0, 2]\n"
     ]
    },
    {
     "data": {
      "text/plain": [
       "3"
      ]
     },
     "execution_count": 8,
     "metadata": {},
     "output_type": "execute_result"
    }
   ],
   "source": [
    "#empty result and err arrays\n",
    "result_fr = []\n",
    "err_fr = []\n",
    "result_Qi = []\n",
    "err_Qi = []\n",
    "\n",
    "initial_guess = {\n",
    "    \"f0\": 17000, #0.1,\n",
    "    \"phi\": -0.2369, # 2.1,\n",
    "    \"Qc\": 29208,\n",
    "    \"A\": 0.0, #1.0,\n",
    "    \"B\": 2.8643e-8 ,#1e-9,\n",
    "    \"C\": 8.0398e-15,#1e-18,\n",
    "    \"D\": -3.5988e-20, # 1e-27\n",
    "    }\n",
    "\n",
    "param_limits = {\n",
    "    \"Qc\": (1e2, 1e7),\n",
    "    \"Qt\": (1e2, 1e7),\n",
    "    #'phi': (-20, 20),\n",
    "    #'f0': (-1e6, 1e6),\n",
    "    }\n",
    "\n",
    "for i in range(0, len(f)):\n",
    "    f_i = f[int(i)]\n",
    "    y_i = y[int(i)]\n",
    "    \n",
    "    fmin = f_i[np.argmin(y_i)]\n",
    "    initial_guess['fmin'] = fmin\n",
    "    fwhm = peak_width(f_i, -y_i)\n",
    "    \n",
    "    mask = (f_i > fmin - 7 * fwhm) & (f_i < fmin + 7 * fwhm)\n",
    "    f_i = f_i[mask]\n",
    "    y_i = y_i[mask]\n",
    "\n",
    "    # Estimate the initial guess of Qt\n",
    "    Qt_guess = fmin / peak_width(f_i, -y_i)\n",
    "    initial_guess['Qt'] = Qt_guess\n",
    "\n",
    "    # Estimate the initial guess of K\n",
    "    initial_guess['K'] = (np.max(y_i) - np.min(y_i)) * initial_guess['Qc'] / initial_guess['Qt']\n",
    "    #print(f\"Initial guess: {initial_guess}\")\n",
    "\n",
    "    fit_data = np.column_stack((f_i, y_i))\n",
    "    fitter = Fitter(model_function=md.resonance_model, \n",
    "                    param_names=[\"f0\", \"phi\", \"Qt\", \"Qc\", \"A\", \"B\", \"C\", \"D\", \"K\", \"fmin\"], \n",
    "                    data=fit_data, \n",
    "                    loss_function=LeastSquares,\n",
    "                    params_initial_guess=initial_guess,\n",
    "                    params_range=param_limits)\n",
    "\n",
    "    fitter.model.set_fixed_params({\"fmin\": fmin})\n",
    "    result = fitter.fit()\n",
    "    result_dict = result.values.to_dict()\n",
    "    err_dict = result.errors.to_dict()\n",
    "    \n",
    "    result_fr.append(result_dict['f0'] + fmin)\n",
    "    err_fr.append(err_dict['f0'])\n",
    "    \n",
    "    result_Qi.append(abs((1/result_dict['Qt']-1/result_dict['Qc'])**-1))\n",
    "    Qt = result_dict['Qt']\n",
    "    Qc = result_dict['Qc']\n",
    "    err_Qi.append(np.sqrt((err_dict['Qt'] * Qt**-2)**2 + (err_dict['Qc'] * Qc**-2)**2) * ((1/Qt-1/Qc)**-2))\n",
    "    \n",
    "    print(\"Q_res\" + str(i*2 + 40))\n",
    "    print(\"Q_i: \" + str(abs((1/result_dict['Qt']-1/result_dict['Qc'])**-1)))\n",
    "    \n",
    "    print(f\"Result: {result_dict}\")\n",
    "    grapher = fitPlotter(result, f_i, y_i, md.resonance_model)\n",
    "    grapher.simple_plot()\n",
    "\n",
    "print(result_fr)\n",
    "print(result_Qi)\n",
    "    \n"
   ]
  }
 ],
 "metadata": {
  "kernelspec": {
   "display_name": "Python 3",
   "language": "python",
   "name": "python3"
  },
  "language_info": {
   "codemirror_mode": {
    "name": "ipython",
    "version": 3
   },
   "file_extension": ".py",
   "mimetype": "text/x-python",
   "name": "python",
   "nbconvert_exporter": "python",
   "pygments_lexer": "ipython3",
   "version": "3.12.7"
  }
 },
 "nbformat": 4,
 "nbformat_minor": 2
}
