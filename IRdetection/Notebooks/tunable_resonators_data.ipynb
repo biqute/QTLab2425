{
 "cells": [
  {
   "cell_type": "markdown",
   "id": "183c04fd",
   "metadata": {},
   "source": [
    "## Where to find the data\n",
    "\n",
    "The data for the bias current sweeps for the two tunable resonators is in:\n",
    "\n",
    "```\n",
    "IRdetection/Experiments/TRswipeAuto/\n",
    "```\n",
    "\n",
    "In the `run-0/data` folder is present the data for the higher frequency resonator, and in the `run-2/data` folder is present the data for the lower frequency resonator. (run-1 crashed).\n",
    "\n",
    "The data for all the sweep is saved as a *hdf5* file.\n",
    "\n",
    "Morehover in the `run-i/figures` folder are the plots of the amplitude at each bias current."
   ]
  },
  {
   "cell_type": "markdown",
   "id": "006533f5",
   "metadata": {},
   "source": [
    "## Data structure\n",
    "The HDF5 data files are structured as follows:\n",
    "\n",
    "```plaintext\n",
    "# tr_sweep_data.h5\n",
    "\n",
    "┌───────────────────────────────────────────────────────┐\n",
    "│ 📊 Metadata       \n",
    "                                   │\n",
    "├───────────────────────────────────────────────────────┤\n",
    "│ ├─ attenuation (dBm)          :                       │\n",
    "│ ├─ cryostat_temperature (K)   :                       │\n",
    "│ ├─ f0 (Hz)                    :                       │\n",
    "│ ├─ frequency_span (Hz)        :                       │\n",
    "│ ├─ param_a                    :                       │\n",
    "│ ├─ param_b                    :                       │\n",
    "│ ├─ resistance (Ohm)           :                       │\n",
    "│ ├─ vna_avg_count              :                       │\n",
    "│ ├─ vna_bandwidth (Hz)         :                       │\n",
    "│ ├─ vna_point_count            :                       │\n",
    "│ ├─ vna_power (dBm)            :                       │\n",
    "│ ├─ voltage_max (V)            :                       │\n",
    "│ ├─ voltage_min (V)            :                       │\n",
    "│ └─ voltage_step (V)           :                       │\n",
    "│                                                       │\n",
    "├───────────────────────────────────────────────────────┤\n",
    "│ 📈 voltage_sweeps                                     │\n",
    "├───────────────────────────────────────────────────────┤\n",
    "│ ├─ bias_0.000V                                        │\n",
    "│ │  ├─ Data                                            │\n",
    "│ │  │  ├─ column 0             : frequency (Hz)        │\n",
    "│ │  │  ├─ column 1             : real                  │\n",
    "│ │  │  └─ column 2             : imag                  │\n",
    "│ │  │                                                  │\n",
    "│ │  └─ Metadata                                        │\n",
    "│ │     ├─ bias_current_mA                              │\n",
    "│ │     ├─ bias_voltage                                 │\n",
    "│ │     ├─ center_frequency     : [expected peak freq]  │\n",
    "│ │     └─ column_names                                 │\n",
    "│ │                                                     │\n",
    "│ ├─ bias_0.200V                                        │\n",
    "│ │  └─ ...                                             │\n",
    "│ │                                                     │\n",
    "│ └─ ... and so on for each voltage step                │\n",
    "└───────────────────────────────────────────────────────┘\n",
    "```\n",
    "\n",
    "Each voltage sweep contains measurements at different bias voltages, starting from 0.000V and incremented by the voltage_step value (0.2V) up to voltage_max (8V)."
   ]
  },
  {
   "cell_type": "markdown",
   "id": "6608ee41",
   "metadata": {},
   "source": [
    "## Reading the data"
   ]
  }
 ],
 "metadata": {
  "kernelspec": {
   "display_name": "singlephoton",
   "language": "python",
   "name": "python3"
  },
  "language_info": {
   "codemirror_mode": {
    "name": "ipython",
    "version": 3
   },
   "file_extension": ".py",
   "mimetype": "text/x-python",
   "name": "python",
   "nbconvert_exporter": "python",
   "pygments_lexer": "ipython3",
   "version": "3.13.2"
  }
 },
 "nbformat": 4,
 "nbformat_minor": 5
}
